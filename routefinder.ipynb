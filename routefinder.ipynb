{
  "nbformat": 4,
  "nbformat_minor": 0,
  "metadata": {
    "colab": {
      "provenance": [],
      "authorship_tag": "ABX9TyNUgjZIsoDXP5IW01lJBmeF",
      "include_colab_link": true
    },
    "kernelspec": {
      "name": "python3",
      "display_name": "Python 3"
    },
    "language_info": {
      "name": "python"
    }
  },
  "cells": [
    {
      "cell_type": "markdown",
      "metadata": {
        "id": "view-in-github",
        "colab_type": "text"
      },
      "source": [
        "<a href=\"https://colab.research.google.com/github/sksayril/VirtualMouse/blob/main/routefinder.ipynb\" target=\"_parent\"><img src=\"https://colab.research.google.com/assets/colab-badge.svg\" alt=\"Open In Colab\"/></a>"
      ]
    },
    {
      "cell_type": "code",
      "execution_count": 1,
      "metadata": {
        "colab": {
          "base_uri": "https://localhost:8080/"
        },
        "id": "Z5zhW07qtmqJ",
        "outputId": "b690ef5d-20ae-4ba8-dc8a-ba2b54105a1e"
      },
      "outputs": [
        {
          "output_type": "stream",
          "name": "stdout",
          "text": [
            "Requirement already satisfied: folium in /usr/local/lib/python3.10/dist-packages (0.14.0)\n",
            "Requirement already satisfied: branca>=0.6.0 in /usr/local/lib/python3.10/dist-packages (from folium) (0.6.0)\n",
            "Requirement already satisfied: jinja2>=2.9 in /usr/local/lib/python3.10/dist-packages (from folium) (3.1.2)\n",
            "Requirement already satisfied: numpy in /usr/local/lib/python3.10/dist-packages (from folium) (1.22.4)\n",
            "Requirement already satisfied: requests in /usr/local/lib/python3.10/dist-packages (from folium) (2.27.1)\n",
            "Requirement already satisfied: MarkupSafe>=2.0 in /usr/local/lib/python3.10/dist-packages (from jinja2>=2.9->folium) (2.1.3)\n",
            "Requirement already satisfied: urllib3<1.27,>=1.21.1 in /usr/local/lib/python3.10/dist-packages (from requests->folium) (1.26.16)\n",
            "Requirement already satisfied: certifi>=2017.4.17 in /usr/local/lib/python3.10/dist-packages (from requests->folium) (2023.7.22)\n",
            "Requirement already satisfied: charset-normalizer~=2.0.0 in /usr/local/lib/python3.10/dist-packages (from requests->folium) (2.0.12)\n",
            "Requirement already satisfied: idna<4,>=2.5 in /usr/local/lib/python3.10/dist-packages (from requests->folium) (3.4)\n",
            "Collecting osmnx\n",
            "  Downloading osmnx-1.6.0-py3-none-any.whl (101 kB)\n",
            "\u001b[2K     \u001b[90m━━━━━━━━━━━━━━━━━━━━━━━━━━━━━━━━━━━━━━━\u001b[0m \u001b[32m101.4/101.4 kB\u001b[0m \u001b[31m1.6 MB/s\u001b[0m eta \u001b[36m0:00:00\u001b[0m\n",
            "\u001b[?25hRequirement already satisfied: geopandas>=0.12 in /usr/local/lib/python3.10/dist-packages (from osmnx) (0.13.2)\n",
            "Requirement already satisfied: networkx>=2.5 in /usr/local/lib/python3.10/dist-packages (from osmnx) (3.1)\n",
            "Requirement already satisfied: numpy>=1.20 in /usr/local/lib/python3.10/dist-packages (from osmnx) (1.22.4)\n",
            "Requirement already satisfied: pandas>=1.1 in /usr/local/lib/python3.10/dist-packages (from osmnx) (1.5.3)\n",
            "Requirement already satisfied: requests>=2.27 in /usr/local/lib/python3.10/dist-packages (from osmnx) (2.27.1)\n",
            "Requirement already satisfied: shapely>=2.0 in /usr/local/lib/python3.10/dist-packages (from osmnx) (2.0.1)\n",
            "Requirement already satisfied: fiona>=1.8.19 in /usr/local/lib/python3.10/dist-packages (from geopandas>=0.12->osmnx) (1.9.4.post1)\n",
            "Requirement already satisfied: packaging in /usr/local/lib/python3.10/dist-packages (from geopandas>=0.12->osmnx) (23.1)\n",
            "Requirement already satisfied: pyproj>=3.0.1 in /usr/local/lib/python3.10/dist-packages (from geopandas>=0.12->osmnx) (3.6.0)\n",
            "Requirement already satisfied: python-dateutil>=2.8.1 in /usr/local/lib/python3.10/dist-packages (from pandas>=1.1->osmnx) (2.8.2)\n",
            "Requirement already satisfied: pytz>=2020.1 in /usr/local/lib/python3.10/dist-packages (from pandas>=1.1->osmnx) (2022.7.1)\n",
            "Requirement already satisfied: urllib3<1.27,>=1.21.1 in /usr/local/lib/python3.10/dist-packages (from requests>=2.27->osmnx) (1.26.16)\n",
            "Requirement already satisfied: certifi>=2017.4.17 in /usr/local/lib/python3.10/dist-packages (from requests>=2.27->osmnx) (2023.7.22)\n",
            "Requirement already satisfied: charset-normalizer~=2.0.0 in /usr/local/lib/python3.10/dist-packages (from requests>=2.27->osmnx) (2.0.12)\n",
            "Requirement already satisfied: idna<4,>=2.5 in /usr/local/lib/python3.10/dist-packages (from requests>=2.27->osmnx) (3.4)\n",
            "Requirement already satisfied: attrs>=19.2.0 in /usr/local/lib/python3.10/dist-packages (from fiona>=1.8.19->geopandas>=0.12->osmnx) (23.1.0)\n",
            "Requirement already satisfied: click~=8.0 in /usr/local/lib/python3.10/dist-packages (from fiona>=1.8.19->geopandas>=0.12->osmnx) (8.1.6)\n",
            "Requirement already satisfied: click-plugins>=1.0 in /usr/local/lib/python3.10/dist-packages (from fiona>=1.8.19->geopandas>=0.12->osmnx) (1.1.1)\n",
            "Requirement already satisfied: cligj>=0.5 in /usr/local/lib/python3.10/dist-packages (from fiona>=1.8.19->geopandas>=0.12->osmnx) (0.7.2)\n",
            "Requirement already satisfied: six in /usr/local/lib/python3.10/dist-packages (from fiona>=1.8.19->geopandas>=0.12->osmnx) (1.16.0)\n",
            "Installing collected packages: osmnx\n",
            "Successfully installed osmnx-1.6.0\n"
          ]
        }
      ],
      "source": [
        "!pip install folium\n",
        "!pip install osmnx"
      ]
    },
    {
      "cell_type": "code",
      "source": [
        "!pip install geopy"
      ],
      "metadata": {
        "colab": {
          "base_uri": "https://localhost:8080/"
        },
        "id": "_MZvf0efudXY",
        "outputId": "dc9d1ebc-219b-4472-d256-9debed7c4075"
      },
      "execution_count": 5,
      "outputs": [
        {
          "output_type": "stream",
          "name": "stdout",
          "text": [
            "Requirement already satisfied: geopy in /usr/local/lib/python3.10/dist-packages (2.3.0)\n",
            "Requirement already satisfied: geographiclib<3,>=1.52 in /usr/local/lib/python3.10/dist-packages (from geopy) (2.0)\n"
          ]
        }
      ]
    },
    {
      "cell_type": "code",
      "source": [
        "!pip install shapely"
      ],
      "metadata": {
        "colab": {
          "base_uri": "https://localhost:8080/"
        },
        "id": "oN2eswgMvEjF",
        "outputId": "4e6ff307-ea9f-4cc2-e5b3-f989d37fb58e"
      },
      "execution_count": 9,
      "outputs": [
        {
          "output_type": "stream",
          "name": "stdout",
          "text": [
            "Requirement already satisfied: shapely in /usr/local/lib/python3.10/dist-packages (2.0.1)\n",
            "Requirement already satisfied: numpy>=1.14 in /usr/local/lib/python3.10/dist-packages (from shapely) (1.22.4)\n"
          ]
        }
      ]
    },
    {
      "cell_type": "code",
      "source": [
        "import folium\n",
        "import osmnx as ox\n",
        "from google.colab import files\n",
        "from geopy.geocoders import Nominatim\n",
        "from shapely.geometry import Point\n",
        "\n"
      ],
      "metadata": {
        "id": "6HB4E5ShtsrT"
      },
      "execution_count": 10,
      "outputs": []
    },
    {
      "cell_type": "code",
      "source": [
        "def show_road_direction(start, end):\n",
        "    \"\"\"Shows the road direction between two locations using Folium.\n",
        "\n",
        "    Args:\n",
        "        start: The starting location as a tuple of (latitude, longitude).\n",
        "        end: The ending location as a tuple of (latitude, longitude).\n",
        "\n",
        "    Returns:\n",
        "        A Folium map showing the road direction between the two locations.\n",
        "    \"\"\"\n",
        "\n",
        "    map = folium.Map(location=[start[0], start[1]], zoom_start=10)\n",
        "\n",
        "    # Create Points from the start and end coordinates\n",
        "    start_point = Point(start[1], start[0])\n",
        "    end_point = Point(end[1], end[0])\n",
        "\n",
        "    # Get the road network between the two locations.\n",
        "    graph = ox.graph_from_point((start[0], start[1]), network_type=\"drive\", dist=500)\n",
        "    start_node = ox.distance.nearest_nodes(graph, start[1], start[0])\n",
        "    end_node = ox.distance.nearest_nodes(graph, end[1], end[0])\n",
        "    path = ox.shortest_path(graph, start_node, end_node, weight=\"length\")\n",
        "\n",
        "    # Get the path coordinates (latitudes and longitudes).\n",
        "    path_coords = [(graph.nodes[node][\"y\"], graph.nodes[node][\"x\"]) for node in path]\n",
        "\n",
        "    # Add the road network to the map.\n",
        "    folium.PolyLine(path_coords, color=\"red\", weight=5).add_to(map)\n",
        "\n",
        "    # Add the starting and ending locations to the map.\n",
        "    folium.Marker(start, popup=\"Start\", icon=folium.Icon(color=\"green\")).add_to(map)\n",
        "    folium.Marker(end, popup=\"End\", icon=folium.Icon(color=\"blue\")).add_to(map)\n",
        "\n",
        "    return map\n",
        "\n",
        "if __name__ == \"__main__\":\n",
        "    start = (21.14172570721608, 72.75483189719328)\n",
        "    end = (21.136281967905266, 72.75139866951066)\n",
        "    map = show_road_direction(start, end)\n",
        "\n",
        "    # Save the map as an HTML file\n",
        "    map.save(\"road_direction.html\")\n",
        "\n",
        "    # Download the HTML file to your local machine\n",
        "    files.download(\"road_direction.html\")"
      ],
      "metadata": {
        "colab": {
          "base_uri": "https://localhost:8080/",
          "height": 17
        },
        "id": "2vNPJBHCt46K",
        "outputId": "f1503d00-c9f8-4f45-c981-6ace98d10744"
      },
      "execution_count": 19,
      "outputs": [
        {
          "output_type": "display_data",
          "data": {
            "text/plain": [
              "<IPython.core.display.Javascript object>"
            ],
            "application/javascript": [
              "\n",
              "    async function download(id, filename, size) {\n",
              "      if (!google.colab.kernel.accessAllowed) {\n",
              "        return;\n",
              "      }\n",
              "      const div = document.createElement('div');\n",
              "      const label = document.createElement('label');\n",
              "      label.textContent = `Downloading \"${filename}\": `;\n",
              "      div.appendChild(label);\n",
              "      const progress = document.createElement('progress');\n",
              "      progress.max = size;\n",
              "      div.appendChild(progress);\n",
              "      document.body.appendChild(div);\n",
              "\n",
              "      const buffers = [];\n",
              "      let downloaded = 0;\n",
              "\n",
              "      const channel = await google.colab.kernel.comms.open(id);\n",
              "      // Send a message to notify the kernel that we're ready.\n",
              "      channel.send({})\n",
              "\n",
              "      for await (const message of channel.messages) {\n",
              "        // Send a message to notify the kernel that we're ready.\n",
              "        channel.send({})\n",
              "        if (message.buffers) {\n",
              "          for (const buffer of message.buffers) {\n",
              "            buffers.push(buffer);\n",
              "            downloaded += buffer.byteLength;\n",
              "            progress.value = downloaded;\n",
              "          }\n",
              "        }\n",
              "      }\n",
              "      const blob = new Blob(buffers, {type: 'application/binary'});\n",
              "      const a = document.createElement('a');\n",
              "      a.href = window.URL.createObjectURL(blob);\n",
              "      a.download = filename;\n",
              "      div.appendChild(a);\n",
              "      a.click();\n",
              "      div.remove();\n",
              "    }\n",
              "  "
            ]
          },
          "metadata": {}
        },
        {
          "output_type": "display_data",
          "data": {
            "text/plain": [
              "<IPython.core.display.Javascript object>"
            ],
            "application/javascript": [
              "download(\"download_80a885da-7b86-4cdd-ad31-ccc94f918d9d\", \"road_direction.html\", 6136)"
            ]
          },
          "metadata": {}
        }
      ]
    },
    {
      "cell_type": "code",
      "source": [
        "\n",
        "def show_road_direction(start, end):\n",
        "    \"\"\"Shows the road direction between two locations using Folium.\n",
        "\n",
        "    Args:\n",
        "        start: The starting location as a tuple of (latitude, longitude).\n",
        "        end: The ending location as a tuple of (latitude, longitude).\n",
        "\n",
        "    Returns:\n",
        "        A Folium map showing the road direction between the two locations.\n",
        "    \"\"\"\n",
        "\n",
        "    # Create Points from the start and end coordinates\n",
        "    start_point = Point(start[1], start[0])\n",
        "    end_point = Point(end[1], end[0])\n",
        "\n",
        "    # Get the road network between the two locations.\n",
        "    graph = ox.graph_from_point((start[0], start[1]), network_type=\"drive_service\")\n",
        "    start_node = ox.distance.nearest_nodes(graph, start[1], start[0])\n",
        "    end_node = ox.distance.nearest_nodes(graph, end[1], end[0])\n",
        "\n",
        "    # Calculate the shortest path.\n",
        "    path = ox.shortest_path(graph, start_node, end_node, weight=\"length\")\n",
        "    path_coords = []\n",
        "\n",
        "    # Get the path coordinates (latitudes and longitudes) if a valid path is found.\n",
        "    if path:\n",
        "        path_coords = [(graph.nodes[node][\"y\"], graph.nodes[node][\"x\"]) for node in path]\n",
        "\n",
        "    # Create a Folium map centered between start and end locations.\n",
        "    map_center = [(start[0] + end[0]) / 2, (start[1] + end[1]) / 2]\n",
        "    map = folium.Map(location=map_center, zoom_start=14)\n",
        "\n",
        "    # Add the road network to the map if a valid path is found.\n",
        "    if path_coords:\n",
        "        folium.PolyLine(path_coords, color=\"red\", weight=5).add_to(map)\n",
        "\n",
        "    # Add the starting and ending locations to the map.\n",
        "    folium.Marker(start, popup=\"Start\", icon=folium.Icon(color=\"green\")).add_to(map)\n",
        "    folium.Marker(end, popup=\"End\", icon=folium.Icon(color=\"blue\")).add_to(map)\n",
        "\n",
        "    return map\n",
        "\n",
        "if __name__ == \"__main__\":\n",
        "    start = (37.774929, -122.419418)\n",
        "    end = (37.787331, -122.401489)\n",
        "    map = show_road_direction(start, end)\n",
        "\n",
        "    if map is None:\n",
        "        print(\"Route cannot be calculated between the given locations.\")\n",
        "    else:\n",
        "        map.save(\"road_direction.html\")\n",
        "\n",
        "        files.download(\"road_direction.html\")"
      ],
      "metadata": {
        "colab": {
          "base_uri": "https://localhost:8080/",
          "height": 17
        },
        "id": "QpXAhDTUv7jl",
        "outputId": "f6d0d8c3-2473-40d8-d145-36e913be00f0"
      },
      "execution_count": 15,
      "outputs": [
        {
          "output_type": "display_data",
          "data": {
            "text/plain": [
              "<IPython.core.display.Javascript object>"
            ],
            "application/javascript": [
              "\n",
              "    async function download(id, filename, size) {\n",
              "      if (!google.colab.kernel.accessAllowed) {\n",
              "        return;\n",
              "      }\n",
              "      const div = document.createElement('div');\n",
              "      const label = document.createElement('label');\n",
              "      label.textContent = `Downloading \"${filename}\": `;\n",
              "      div.appendChild(label);\n",
              "      const progress = document.createElement('progress');\n",
              "      progress.max = size;\n",
              "      div.appendChild(progress);\n",
              "      document.body.appendChild(div);\n",
              "\n",
              "      const buffers = [];\n",
              "      let downloaded = 0;\n",
              "\n",
              "      const channel = await google.colab.kernel.comms.open(id);\n",
              "      // Send a message to notify the kernel that we're ready.\n",
              "      channel.send({})\n",
              "\n",
              "      for await (const message of channel.messages) {\n",
              "        // Send a message to notify the kernel that we're ready.\n",
              "        channel.send({})\n",
              "        if (message.buffers) {\n",
              "          for (const buffer of message.buffers) {\n",
              "            buffers.push(buffer);\n",
              "            downloaded += buffer.byteLength;\n",
              "            progress.value = downloaded;\n",
              "          }\n",
              "        }\n",
              "      }\n",
              "      const blob = new Blob(buffers, {type: 'application/binary'});\n",
              "      const a = document.createElement('a');\n",
              "      a.href = window.URL.createObjectURL(blob);\n",
              "      a.download = filename;\n",
              "      div.appendChild(a);\n",
              "      a.click();\n",
              "      div.remove();\n",
              "    }\n",
              "  "
            ]
          },
          "metadata": {}
        },
        {
          "output_type": "display_data",
          "data": {
            "text/plain": [
              "<IPython.core.display.Javascript object>"
            ],
            "application/javascript": [
              "download(\"download_ac19784e-dfcb-4b6e-b534-77868c6c0458\", \"road_direction.html\", 5307)"
            ]
          },
          "metadata": {}
        }
      ]
    },
    {
      "cell_type": "code",
      "source": [
        "#finalFIle\n",
        "def show_road_direction(start, end):\n",
        "    \"\"\"Shows the road direction between two locations using Folium.\n",
        "\n",
        "    Args:\n",
        "        start: The starting location as a tuple of (latitude, longitude).\n",
        "        end: The ending location as a tuple of (latitude, longitude).\n",
        "\n",
        "    Returns:\n",
        "        A Folium map showing the road direction between the two locations.\n",
        "    \"\"\"\n",
        "\n",
        "    map = folium.Map(location=[start[0], start[1]], zoom_start=10)\n",
        "\n",
        "    # Create Points from the start and end coordinates\n",
        "    start_point = Point(start[1], start[0])\n",
        "    end_point = Point(end[1], end[0])\n",
        "\n",
        "    # Get the road network between the two locations.\n",
        "    graph = ox.graph_from_point((start[0], start[1]), network_type=\"drive\", dist=30000)  # Use a larger distance\n",
        "    start_node = ox.distance.nearest_nodes(graph, start[1], start[0])\n",
        "    end_node = ox.distance.nearest_nodes(graph, end[1], end[0])\n",
        "    path = ox.shortest_path(graph, start_node, end_node, weight=\"length\")\n",
        "\n",
        "    # Get the path coordinates (latitudes and longitudes).\n",
        "    path_coords = [(graph.nodes[node][\"y\"], graph.nodes[node][\"x\"]) for node in path]\n",
        "\n",
        "    # Add the road network to the map.\n",
        "    folium.PolyLine(path_coords, color=\"red\", weight=5).add_to(map)\n",
        "\n",
        "    # Add the starting and ending locations to the map.\n",
        "    folium.Marker(start, popup=\"Start\", icon=folium.Icon(color=\"green\")).add_to(map)\n",
        "    folium.Marker(end, popup=\"End\", icon=folium.Icon(color=\"blue\")).add_to(map)\n",
        "\n",
        "    return map\n",
        "\n",
        "if __name__ == \"__main__\":\n",
        "    start = (21.098881122217232, 72.8824568049787)\n",
        "    end = (21.08773355929253, 72.72235678968576)\n",
        "    map = show_road_direction(start, end)\n",
        "    map.save(\"road_direction.html\")\n",
        "    files.download(\"road_direction.html\")"
      ],
      "metadata": {
        "colab": {
          "base_uri": "https://localhost:8080/",
          "height": 17
        },
        "id": "0tDBpiZLxp6_",
        "outputId": "5fee8096-1161-4d35-ff01-96304f8b5798"
      },
      "execution_count": 29,
      "outputs": [
        {
          "output_type": "display_data",
          "data": {
            "text/plain": [
              "<IPython.core.display.Javascript object>"
            ],
            "application/javascript": [
              "\n",
              "    async function download(id, filename, size) {\n",
              "      if (!google.colab.kernel.accessAllowed) {\n",
              "        return;\n",
              "      }\n",
              "      const div = document.createElement('div');\n",
              "      const label = document.createElement('label');\n",
              "      label.textContent = `Downloading \"${filename}\": `;\n",
              "      div.appendChild(label);\n",
              "      const progress = document.createElement('progress');\n",
              "      progress.max = size;\n",
              "      div.appendChild(progress);\n",
              "      document.body.appendChild(div);\n",
              "\n",
              "      const buffers = [];\n",
              "      let downloaded = 0;\n",
              "\n",
              "      const channel = await google.colab.kernel.comms.open(id);\n",
              "      // Send a message to notify the kernel that we're ready.\n",
              "      channel.send({})\n",
              "\n",
              "      for await (const message of channel.messages) {\n",
              "        // Send a message to notify the kernel that we're ready.\n",
              "        channel.send({})\n",
              "        if (message.buffers) {\n",
              "          for (const buffer of message.buffers) {\n",
              "            buffers.push(buffer);\n",
              "            downloaded += buffer.byteLength;\n",
              "            progress.value = downloaded;\n",
              "          }\n",
              "        }\n",
              "      }\n",
              "      const blob = new Blob(buffers, {type: 'application/binary'});\n",
              "      const a = document.createElement('a');\n",
              "      a.href = window.URL.createObjectURL(blob);\n",
              "      a.download = filename;\n",
              "      div.appendChild(a);\n",
              "      a.click();\n",
              "      div.remove();\n",
              "    }\n",
              "  "
            ]
          },
          "metadata": {}
        },
        {
          "output_type": "display_data",
          "data": {
            "text/plain": [
              "<IPython.core.display.Javascript object>"
            ],
            "application/javascript": [
              "download(\"download_ed9b3f38-130a-44fa-bfa4-fefcbeb3356b\", \"road_direction.html\", 6989)"
            ]
          },
          "metadata": {}
        }
      ]
    }
  ]
}